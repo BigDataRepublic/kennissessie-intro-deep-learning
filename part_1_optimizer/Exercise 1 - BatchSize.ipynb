{
 "cells": [
  {
   "cell_type": "markdown",
   "id": "063073e4",
   "metadata": {},
   "source": [
    "# BatchSize ?!\n"
   ]
  },
  {
   "cell_type": "code",
   "execution_count": null,
   "id": "6f2d6bf3",
   "metadata": {},
   "outputs": [],
   "source": [
    "import numpy as np\n",
    "import pandas as pd\n",
    "\n",
    "import tensorflow as tf\n",
    "from tensorflow import keras\n",
    "from tensorflow.keras import layers"
   ]
  },
  {
   "cell_type": "code",
   "execution_count": null,
   "id": "6f8611ae",
   "metadata": {},
   "outputs": [],
   "source": [
    "# Model / data parameters\n",
    "num_classes = 10\n",
    "input_shape = (28, 28, 1)\n",
    "\n",
    "# the data, split between train and test sets\n",
    "(x_train, y_train), (x_test, y_test) = keras.datasets.mnist.load_data()\n",
    "\n",
    "# Scale images to the [0, 1] range\n",
    "x_train = x_train.astype(\"float32\") / 255\n",
    "x_test = x_test.astype(\"float32\") / 255\n",
    "\n",
    "# Make sure images have shape (28, 28, 1)\n",
    "x_train = np.expand_dims(x_train, -1)\n",
    "x_test = np.expand_dims(x_test, -1)\n",
    "\n",
    "print(\"x_train shape:\", x_train.shape)\n",
    "print(x_train.shape[0], \"train samples\")\n",
    "print(x_test.shape[0], \"test samples\")\n",
    "\n",
    "\n",
    "y_train = keras.utils.to_categorical(y_train, num_classes)\n",
    "y_test = keras.utils.to_categorical(y_test, num_classes)"
   ]
  },
  {
   "cell_type": "code",
   "execution_count": null,
   "id": "c4f87b4e",
   "metadata": {},
   "outputs": [],
   "source": [
    "import matplotlib.pyplot as plt\n",
    "\n",
    "num = 10\n",
    "images = x_train[:num]\n",
    "labels = np.argmax(y_train[:num], axis=1)\n",
    "\n",
    "num_row = 2\n",
    "num_col = 5\n",
    "fig, axes = plt.subplots(num_row, num_col, figsize=(1.5*num_col,2*num_row))\n",
    "for i in range(num):\n",
    "    ax = axes[i//num_col, i%num_col]\n",
    "    ax.imshow(images[i], cmap='gray')\n",
    "    ax.set_title('Label: {}'.format(labels[i]))\n",
    "plt.tight_layout()\n",
    "plt.show()"
   ]
  },
  {
   "cell_type": "code",
   "execution_count": null,
   "id": "47322068",
   "metadata": {},
   "outputs": [],
   "source": [
    "model = keras.Sequential()\n",
    "\n",
    "model.add( layers.Flatten( input_shape=input_shape) )\n",
    "model.add( keras.layers.Dense(1024, activation='relu') )\n",
    "model.add( keras.layers.Dense(2048, activation='relu') )\n",
    "model.add( keras.layers.Dense(2048, activation='relu') )\n",
    "model.add( keras.layers.Dense(1024, activation='relu') )\n",
    "model.add( layers.Flatten() )\n",
    "\n",
    "model.add( layers.Dense(num_classes, activation=\"softmax\") )"
   ]
  },
  {
   "cell_type": "code",
   "execution_count": null,
   "id": "41e9d2f4",
   "metadata": {},
   "outputs": [],
   "source": [
    "model.summary()"
   ]
  },
  {
   "cell_type": "code",
   "execution_count": null,
   "id": "a97e4576",
   "metadata": {},
   "outputs": [],
   "source": [
    "sgd = tf.keras.optimizers.SGD( learning_rate=0.02, name=\"SGD\" )\n",
    "adam = tf.keras.optimizers.Adam()\n"
   ]
  },
  {
   "cell_type": "markdown",
   "id": "89604d74",
   "metadata": {},
   "source": [
    "## Oh No! The Batch-Size is not chosen well!!\n",
    "\n",
    "**Before changing the batch-size, guess what the performance gain will be**\n",
    "\n",
    "- Experiment what is the best batch-size performance wise, it is only 1!\n",
    "\n",
    "- Change the architecture\n",
    "- SGD is often explained with a single data input - what does the optimizer do with weights when batchsize > 1?"
   ]
  },
  {
   "cell_type": "code",
   "execution_count": null,
   "id": "5d7cba05",
   "metadata": {},
   "outputs": [],
   "source": [
    "batch_size = 1\n",
    "epochs = 3\n",
    "\n",
    "model.compile(loss=\"categorical_crossentropy\", optimizer=adam, metrics=[\"accuracy\"])\n",
    "\n",
    "loss_graph = model.fit(x_train, y_train, batch_size=batch_size, epochs=epochs, validation_split=.2)"
   ]
  },
  {
   "cell_type": "code",
   "execution_count": null,
   "id": "cf4c9372",
   "metadata": {},
   "outputs": [],
   "source": [
    "# accuracy on test set\n",
    "\n",
    "np.mean( np.argmax(model.predict(x_test), axis=1) == np.argmax(y_test,axis=1) )"
   ]
  },
  {
   "cell_type": "code",
   "execution_count": null,
   "id": "4c94526a",
   "metadata": {},
   "outputs": [],
   "source": []
  }
 ],
 "metadata": {
  "kernelspec": {
   "display_name": "Python 3 (ipykernel)",
   "language": "python",
   "name": "python3"
  },
  "language_info": {
   "codemirror_mode": {
    "name": "ipython",
    "version": 3
   },
   "file_extension": ".py",
   "mimetype": "text/x-python",
   "name": "python",
   "nbconvert_exporter": "python",
   "pygments_lexer": "ipython3",
   "version": "3.9.7"
  }
 },
 "nbformat": 4,
 "nbformat_minor": 5
}
